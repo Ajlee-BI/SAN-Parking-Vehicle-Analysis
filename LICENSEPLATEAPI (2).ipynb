{
 "metadata": {
  "kernelspec": {
   "display_name": "Python 3 (ipykernel)",
   "language": "python",
   "name": "python3"
  },
  "language_info": {
   "codemirror_mode": {
    "name": "ipython",
    "version": 3
   },
   "file_extension": ".py",
   "mimetype": "text/x-python",
   "name": "python",
   "nbconvert_exporter": "python",
   "pygments_lexer": "ipython3",
   "version": "3.12.7"
  },
  "lastEditStatus": {
   "notebookId": "qfbjktpzpvk3y6z26nmi",
   "authorId": "2963645573740",
   "authorName": "ajlee@san.org",
   "authorEmail": "ajlee@san.org",
   "sessionId": "52b9cb83-3c91-49f3-9bf0-69499e111538",
   "lastEditTime": 1755106047785
  }
 },
 "nbformat_minor": 5,
 "nbformat": 4,
 "cells": [
  {
   "cell_type": "markdown",
   "id": "5e4eb50e-8bab-4122-8791-aed01e307214",
   "metadata": {
    "name": "cell2",
    "collapsed": false
   },
   "source": "# Bug Fixes:\n- Saved Year Make and Model in the First API Call instead of soley in the second API call, in case the first API call works but the second one fails\n- Removed any potential whitespaces from license plate numbers, at the beginning of the loop before they enter the API call\n- Removed any potential whitespaces from the returned VIN value from JSON response, to prevent HTTP 400 Bad Request Errors (not 100% sure this is the actual cause)\n- The ability to loop through all 5 states for a license plate before moving on to the next license plate \n- Added statements for errors, Success getting 1st / 2nd API call, and when it moves onto the next plate.\n- Added empty dictionaries for each column so that when we try to pull data at the end of the loop into Pandas Dataframe, it doesn't cause any errors with the hardcoded column formatting.\n- Added retry attempts for HTTP 400 Bad Requests on VIN -> Market Value in Step 3.\n- License plates are automatically saved into snowflake after each iteration.\n- Added in logic in SQL code to only pull in revenues that are positive to avoid grabbing refund / cancelation transactions\n- Added in logic to ensure that the license plates inputed into the API loop from SQL only selects the previous month and not all transactions\n- Added in a progress bar\n- Set up secret in Snowflake with actual API key\n- Fine tune timeout amount to avoid HTTP 429 Too Many Requests\n"
  },
  {
   "cell_type": "markdown",
   "id": "26f1b088-13b6-4cc8-be5f-b8525beabea9",
   "metadata": {
    "name": "cell4",
    "collapsed": false
   },
   "source": "# (Part 1) Establish a Snowflake connection and pulling in data from PROD_GOLD.PARKING.DIM_PARKINGCUSTOMER"
  },
  {
   "cell_type": "code",
   "id": "58082db5-6460-4f29-9634-fb5bdcac147b",
   "metadata": {
    "language": "python",
    "name": "cell5"
   },
   "outputs": [],
   "source": "from tqdm import tqdm\nimport streamlit as st \nimport requests\nimport snowflake.connector\nimport snowflake.snowpark.functions as F\nimport pandas as pd\nimport os\nimport json\nimport time\nimport traceback\nimport re\nfrom datetime import date\nfrom pathlib import Path \nfrom snowflake.snowpark.context import get_active_session\nfrom snowflake.snowpark.dataframe_writer import SaveMode\nTABLE_NAME = \"VEHICLE_DATABASES_API_RESULTS_DATA\"\ntoday = date.today()\n\nsession = get_active_session()\n\n# Set the Snowflake Database we want to pull data from so we don't have to repeatedly type it out\nsession.use_database('DEV_BRONZE')\n\n# Set the specific Schmea we want to use\nsession.use_schema('PARKING')\n\n# Joins the first 400 rows of data from Chauntry, SKIDATA, and OCR and filters out any plates that has already been ran before\n\nlicense_plate_ingest_sql = \"\"\"\nWITH already_processed as(\nselect PLATE as LICENSE_PLATE_NUMBER\nfrom DEV_BRONZE.PARKING.VEHICLE_DATABASES_API_RESULTS_DATA\n),\n\nLICENSE_FILTERED as (\nSELECT r.*\nFROM DEV_BRONZE.PARKING.MONTHLY_TXN_SAMPLE as r\nLEFT JOIN already_processed as p\non r.plateno = p.license_plate_number\nwhere p.license_plate_number is null\n)\n\nselect plateno as license_plate_number\nfrom license_filtered\nwhere DATE_TRUNC('month', CURRENT_DATE) = DATE_TRUNC('month', IMPORT_DATE);\n\"\"\"\n\nplate_df = session.sql(license_plate_ingest_sql).to_pandas() # Turns our SQL into a Pandas dataframe",
   "execution_count": null
  },
  {
   "cell_type": "markdown",
   "id": "77388960-7372-45e4-9060-5ffb329cdf2c",
   "metadata": {
    "name": "cell11",
    "collapsed": false
   },
   "source": "# Printing a sample of the license plate data with number of rows / plates to be ran\n"
  },
  {
   "cell_type": "code",
   "execution_count": 40,
   "id": "f8c19f2e-677e-4422-8467-02db6aad4aaa",
   "metadata": {
    "language": "python",
    "name": "cell14"
   },
   "outputs": [
    {
     "name": "stdout",
     "output_type": "stream",
     "text": [
      "    LICENSE_PLATE_NUMBER\n",
      "0                9CAH166\n",
      "1                6VMS200\n",
      "2                7ZDD095\n",
      "3                6HDA953\n",
      "4                5ZGG746\n",
      "..                   ...\n",
      "847              819CNE3\n",
      "848              8UZN206\n",
      "849              9CSJ747\n",
      "850              ATORITO\n",
      "851              9STW963\n",
      "\n",
      "[852 rows x 1 columns]\n"
     ]
    }
   ],
   "source": "# Check to ensure the data from Snowflake contains correct number of rows and data\nprint(plate_df.head(2000))\n"
  },
  {
   "cell_type": "markdown",
   "id": "7ee59043-6828-496d-bc89-b151980d3294",
   "metadata": {
    "name": "cell8",
    "collapsed": false
   },
   "source": "# (Part 2) Loads in API Key Function\nloads in the API Key and saves it as a dictionary"
  },
  {
   "cell_type": "code",
   "id": "a035cb56-2495-4243-93c4-67cac0d7ee98",
   "metadata": {
    "language": "python",
    "name": "cell7"
   },
   "outputs": [],
   "source": "def load_api_key_dict() -> Dict[str, str]:\n    \"\"\"\n    Reads VEHICLE_API_KEY from secrets\n    Plain string: \"...\"                -> wrapped into {\"x-AuthKey\": \"...\"}\n    \"\"\"\n    import streamlit as st\n    raw = st.secrets[\"VEHICLE_API_KEY\"]  \n    return {\"x-AuthKey\": raw}\n\napi_key_dict = load_api_key_dict()\nAUTH_KEY = api_key_dict[\"x-AuthKey\"]",
   "execution_count": null
  },
  {
   "cell_type": "markdown",
   "id": "97dc3451-2368-44f6-90d0-66e29a7fed27",
   "metadata": {
    "name": "cell9",
    "collapsed": false
   },
   "source": "# (Part 3) Save / Upload Function\nCreating a function that will automatically save a license plate to Snowflake table \"DEV_BRONZE.PARKING.VEHICLE_DATABASES_API_RESULTS_DATA\" after each iteration. This ensures that each plate that is ran is automatically saved and if for some reason the API notebook failed the data would already be in the results table and if the notebook was restarted the plates already ran would be filtered out, ensuring no duplicate plates would be ran and no credits would be wasted."
  },
  {
   "cell_type": "code",
   "id": "79437e8c-d2de-4dfd-babf-a576000d084d",
   "metadata": {
    "language": "python",
    "name": "cell10"
   },
   "outputs": [],
   "source": "def save_plate(row_dict: dict) -> None:\n    \"\"\"\n    Append a single record to DEV_BRONZE.PARKING.VEHICLE_DATABASES_API_RESULTS_DATA.\n    Creates the table on first call.\n    \"\"\"\n    df = pd.DataFrame([row_dict])                # one-row DataFrame\n\n    # cast YEAR to nullable integer if the key exists\n    if \"YEAR\" in df.columns:\n        df[\"YEAR\"] = pd.to_numeric(df[\"YEAR\"], errors=\"coerce\").astype(\"Int64\")\n\n    session.write_pandas(\n        df,\n        table_name = TABLE_NAME,\n        auto_create_table = True,                # first run\n        save_mode = SaveMode.APPEND              # every run\n    )",
   "execution_count": null
  },
  {
   "cell_type": "markdown",
   "id": "4e524587-db5e-4d6f-92a1-355690660dc1",
   "metadata": {
    "name": "cell17",
    "collapsed": false
   },
   "source": "# (Part 3) Vehicle Market Value Function\nCreating a function that will do part-two of the License Plate -> Market Value process. The function will take a VIN and input it into Vehicle Databases API and return a list of market values. The code will then loop through the nested dictionaries and return the \"Average Condition Dealer Retail\" value "
  },
  {
   "cell_type": "code",
   "id": "7495a510-ccc8-469e-9008-878792029a4d",
   "metadata": {
    "language": "python",
    "name": "cell12"
   },
   "outputs": [],
   "source": "import requests, re\nfrom typing import Optional, Dict\n\n# This function removes $ dollar signs and , commas from our returned vehicle market value, and ensures the number is an integer $43,221 -> 43221\ndef dollars_to_int(s: str) -> int:\n    return int(re.sub(r\"[^\\d]\", \"\", s))\n\n# This function is our second API call that takes the returned VIN from License Plate and uses the API to return a Vehicle Market Value along with Vehicle Data\ndef get_market_value(vin: str, auth_key: Optional[str] = None) -> Dict[str, object]:\n    # Fill auth_key from our normalized dict if not provided\n    if auth_key is None:\n        auth_key = api_key_dict[\"x-AuthKey\"]\n\n    vin_clean = re.sub(r\"\\s+\", \"\", vin)\n    \n    # ________________ HTTP REQUEST _____________________________\n    BASE_URL = \"https://api.vehicledatabases.com/market-value/v2\"\n    url      = f\"{BASE_URL}/{vin_clean}?state={None}&mileage={None}\"\n    headers = {\"x-AuthKey\": auth_key}\n    \n    r = requests.get(url, headers=headers, timeout=20)\n\n    info = r.json() # Takes the returned JSON response and turns it into a Python dict stored in a variable\n\n    #______________ Extracts The Clean Condition Dealer Retail Value From JSON Response __________________________________\n    \n    # Market data payload stored as a variable to make it easier to call \n    market_data_payload = info[\"data\"][\"market_value\"][\"market_value_data\"]\n\n    # Loop through the different market conditions, and looks for the \"Clean\" condition and returns the \"Dealer Retail\" value\n    for entry in market_data_payload:\n        for cond in entry[\"market value\"]:\n            if cond[\"Condition\"] == \"Clean\":\n                clean_retail = dollars_to_int(cond['Dealer Retail']) # Stores our desired value into a variable\n                break        # found it → stop inner loop\n        else:\n            continue # if 'Clean' condition is not found in this entry it will loop into the next condition dictionary\n        break # if 'Clean' condition is found we exit into the outer loop\n    else:\n        raise KeyError(\" Clean condition dealer retail price was not present in JSON response\")\n    # Exits the loop with the Clean Condition Retail Value and stores it in an object\n    return {\n            #\"VIN\": info[\"data\"][\"intro\"][\"vin\"],\n            \"YEAR\": info[\"data\"][\"basic\"][\"year\"],\n            \"MAKE\": info[\"data\"][\"basic\"][\"make\"],\n            \"MODEL\": info[\"data\"][\"basic\"][\"model\"],\n            \"TRIM\": info[\"data\"][\"basic\"][\"trim\"],\n            \"CLEAN_MARKET_VALUE\" : clean_retail   \n        }",
   "execution_count": null
  },
  {
   "cell_type": "markdown",
   "id": "ec0213a4-8ad4-4b6c-af19-c0e5ad4da8ab",
   "metadata": {
    "name": "cell19",
    "collapsed": false
   },
   "source": "# (Part 3) API Call Loop \nWhere we make our License Plate -> VIN call and then use our get_market_value() function to do the second part of VIN -> Market Value. The first loop will go through the list of license plates with all 50 states and call the API to get a VIN, if the license plate / state is invalid it will go down the list of all 50 states. If the all plate / state combinations failed, it will skip to the next plate in the dataframe before using our get_market_value() function. This ensures that only valid license plates go into the market value API call and returns only information for vaild license plates. \n"
  },
  {
   "cell_type": "code",
   "id": "2a1bbdb2-f733-4047-b1ac-1d9876967a19",
   "metadata": {
    "language": "python",
    "name": "cell3"
   },
   "outputs": [],
   "source": "BASE_URL = \"https://api.vehicledatabases.com/license-decode\"\n\n# Only loops through the closest states\nSTATE_CODES = [\"CA\", \"AZ\", \"NV\", \"OR\", \"WA\"]\n\ntotal_plates = len(plate_df) # Tells how many plates that will be iterated\n\nbar_width = 50 # Sets the bar width for the progress bar                          \n\nhttp = requests.Session()\n\nfor idx, (_, row) in enumerate(plate_df.iterrows(), start=1):\n    # ---- progress bar ----\n    filled   = int(bar_width * idx / total_plates)\n    bar      = \"█\" * filled + \"-\" * (bar_width - filled)\n    percent  = 100 * idx / total_plates\n    \n    print(f\"\\r|{bar}| {idx}/{total_plates} ({percent:5.1f}%)\", end=\"\", flush=True)\n    \n    plate_number = re.sub(r\"\\s+\", \"\", row['LICENSE_PLATE_NUMBER'])\n\n    # loop through every state until one returns a VIN\n    for STATE in STATE_CODES:\n        plate_info = {\n            \"PLATE\": plate_number,\n            \"STATE\": STATE,\n            \"VIN\":\"\",\n            \"ERROR\":\"\",\n            \"IMPORT_DATE\": today\n        } # Dictionary containing all the colum info we want to pull for each row that will later be added after the VIN and Market-Value API calls\n        url     = f\"{BASE_URL}/{plate_info['PLATE']}/{plate_info['STATE']}\"\n        headers = {\"x-AuthKey\" : AUTH_KEY}\n    \n# __________________________________Part-One, License Plate -> VIN Call ___________________________________________________\n    \n        try:\n            r = http.get(url, headers=headers, timeout=20) # Sets up the get request\n            r.raise_for_status() # Looks at the HTTP status code and will keep going or raise and error\n            info = r.json() # Takes the API's JSON response and transforms it into a Python dictionary\n            vin = info[\"data\"][\"intro\"][\"vin\"] # Saves the VIN from API's JSON response as a variable to be used in Part-Two of the code\n            make = info[\"data\"][\"basic\"][\"make\"] # Saves the make,model,year from the API's JSON response into it's own variable, incase the second API call fails, the data will still be added to the results table.\n            model = info[\"data\"][\"basic\"][\"model\"]\n            year = info[\"data\"][\"basic\"][\"year\"]\n            plate_info[\"VIN\"] = vin # Saving the vin in case the second loop fails\n            print(f\"1️⃣  Success Calling License Plate -> VIN for Plate: {plate_info['PLATE']} State: {plate_info['STATE']}, VIN is: {vin}\") # Confirmation statement, printing the vehicle info we stored in our results[] \n            break\n            \n        # Invalid combination of license plate number and state, will try the next state     \n        except (requests.exceptions.RequestException, KeyError) as err:\n           # print(f\"⚠️  No VIN for plate {plate_number} in {plate_info['STATE']}: {err}\")\n            time.sleep(0.00) # respect rate-limit\n            continue         \n    else:\n        #plate_info.update({\"ERROR\": \"vin lookup failed for every state\"})\n    \n        # Calls the save_plate function to save the error directly into Snowflake\n        plate_info.update({\"STATE\":\"\"})\n        save_plate(plate_info)\n        \n        # Add an error code for when it goes through all plates but doesn't return a value\n        print(f\"⚠️  License Plate Number {plate_number} is Invalid, Moving Onto Next License Plate Number\")\n    \n        time.sleep(0.00)\n        continue                             \n# __________________________________Part-Two, VIN -> Market Value Function Call__________________________________________\n        \n        # Attempts to call our get_market_value() function using the VIN pulled from the first part of our loop\n    try:\n        rows = get_market_value(vin) # activates our market value lookup function and stores the results into an variable called rows\n        #print(f\"2️⃣  Success Calling VIN -> Market Value for Plate: {plate_info['PLATE']} State: {plate_info['STATE']} & VIN:{vin}\")\n        \n        rows.update(plate_info) # adds the key / value pairs of STATE and LICENSE PLATE NUMBER to our function results\n        \n        save_plate(rows) # adds to the end of our list the data dictionary with vehicle info returned from the get_market_value() function\n        \n        print(f\"✅  Complete Successful Call for Plate: {plate_info['PLATE']} / {plate_info['STATE']} & VIN: {plate_info['VIN']}\")    \n        \n        # Error exceptions in case anything happens   \n    except requests.exceptions.RequestException as mv_err:\n        print(f\"⚠️  Market-Value API Error For {vin}: {mv_err}\")\n        plate_info.update({\"ERROR\": f\"market API: {mv_err}\"})\n        save_plate(plate_info)\n        \n    except KeyError as data_err: # “Clean Condition Dealer Retail” value is missing, etc.\n        print(f\"⚠️  Market-Value API Error, Clean Condition Dealer Retail Data is Missing For {vin}: {data_err}\")\n        plate_info.update({\"ERROR\": \"average dealer retail not found\"})\n        save_plate(plate_info)\n        \n    except Exception as unknown_err:   # last-resort safety net\n        print(f\"💥 unexpected error for {vin}: {unknown_err}\")\n        plate_info.update({\"ERROR\":f\" unknown Error: {unknown_err}\"})\n        save_plate(plate_info)\n        \n    #print(\"Moving onto next license plate\")\n\nsession.close()\nprint(\"Finished itterating through all plates\")",
   "execution_count": null
  }
 ]
}